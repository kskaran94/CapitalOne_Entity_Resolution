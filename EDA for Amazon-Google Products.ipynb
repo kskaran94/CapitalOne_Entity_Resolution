{
 "cells": [
  {
   "cell_type": "code",
   "execution_count": 13,
   "metadata": {},
   "outputs": [],
   "source": [
    "import numpy as np\n",
    "import pandas as pd\n",
    "import matplotlib.pyplot as plt"
   ]
  },
  {
   "cell_type": "code",
   "execution_count": 2,
   "metadata": {},
   "outputs": [],
   "source": [
    "amazon_products = pd.read_csv(\"Amazon.csv\", engine='python')\n",
    "google_products = pd.read_csv(\"GoogleProducts.csv\", engine='python')"
   ]
  },
  {
   "cell_type": "code",
   "execution_count": 3,
   "metadata": {},
   "outputs": [
    {
     "data": {
      "text/html": [
       "<div>\n",
       "<style scoped>\n",
       "    .dataframe tbody tr th:only-of-type {\n",
       "        vertical-align: middle;\n",
       "    }\n",
       "\n",
       "    .dataframe tbody tr th {\n",
       "        vertical-align: top;\n",
       "    }\n",
       "\n",
       "    .dataframe thead th {\n",
       "        text-align: right;\n",
       "    }\n",
       "</style>\n",
       "<table border=\"1\" class=\"dataframe\">\n",
       "  <thead>\n",
       "    <tr style=\"text-align: right;\">\n",
       "      <th></th>\n",
       "      <th>id</th>\n",
       "      <th>title</th>\n",
       "      <th>description</th>\n",
       "      <th>manufacturer</th>\n",
       "      <th>price</th>\n",
       "    </tr>\n",
       "  </thead>\n",
       "  <tbody>\n",
       "    <tr>\n",
       "      <td>0</td>\n",
       "      <td>b000jz4hqo</td>\n",
       "      <td>clickart 950 000 - premier image pack (dvd-rom)</td>\n",
       "      <td>NaN</td>\n",
       "      <td>broderbund</td>\n",
       "      <td>0.00</td>\n",
       "    </tr>\n",
       "    <tr>\n",
       "      <td>1</td>\n",
       "      <td>b0006zf55o</td>\n",
       "      <td>ca international - arcserve lap/desktop oem 30pk</td>\n",
       "      <td>oem arcserve backup v11.1 win 30u for laptops ...</td>\n",
       "      <td>computer associates</td>\n",
       "      <td>0.00</td>\n",
       "    </tr>\n",
       "    <tr>\n",
       "      <td>2</td>\n",
       "      <td>b00004tkvy</td>\n",
       "      <td>noah's ark activity center (jewel case ages 3-8)</td>\n",
       "      <td>NaN</td>\n",
       "      <td>victory multimedia</td>\n",
       "      <td>0.00</td>\n",
       "    </tr>\n",
       "    <tr>\n",
       "      <td>3</td>\n",
       "      <td>b000g80lqo</td>\n",
       "      <td>peachtree by sage premium accounting for nonpr...</td>\n",
       "      <td>peachtree premium accounting for nonprofits 20...</td>\n",
       "      <td>sage software</td>\n",
       "      <td>599.99</td>\n",
       "    </tr>\n",
       "    <tr>\n",
       "      <td>4</td>\n",
       "      <td>b0006se5bq</td>\n",
       "      <td>singing coach unlimited</td>\n",
       "      <td>singing coach unlimited - electronic learning ...</td>\n",
       "      <td>carry-a-tune technologies</td>\n",
       "      <td>99.99</td>\n",
       "    </tr>\n",
       "  </tbody>\n",
       "</table>\n",
       "</div>"
      ],
      "text/plain": [
       "           id                                              title  \\\n",
       "0  b000jz4hqo    clickart 950 000 - premier image pack (dvd-rom)   \n",
       "1  b0006zf55o   ca international - arcserve lap/desktop oem 30pk   \n",
       "2  b00004tkvy   noah's ark activity center (jewel case ages 3-8)   \n",
       "3  b000g80lqo  peachtree by sage premium accounting for nonpr...   \n",
       "4  b0006se5bq                            singing coach unlimited   \n",
       "\n",
       "                                         description  \\\n",
       "0                                                NaN   \n",
       "1  oem arcserve backup v11.1 win 30u for laptops ...   \n",
       "2                                                NaN   \n",
       "3  peachtree premium accounting for nonprofits 20...   \n",
       "4  singing coach unlimited - electronic learning ...   \n",
       "\n",
       "                manufacturer   price  \n",
       "0                 broderbund    0.00  \n",
       "1        computer associates    0.00  \n",
       "2         victory multimedia    0.00  \n",
       "3              sage software  599.99  \n",
       "4  carry-a-tune technologies   99.99  "
      ]
     },
     "execution_count": 3,
     "metadata": {},
     "output_type": "execute_result"
    }
   ],
   "source": [
    "amazon_products.head()"
   ]
  },
  {
   "cell_type": "code",
   "execution_count": 4,
   "metadata": {},
   "outputs": [],
   "source": [
    "count_amazon_products = len(amazon_products)\n",
    "count_google_products = len(google_products)"
   ]
  },
  {
   "cell_type": "code",
   "execution_count": 5,
   "metadata": {},
   "outputs": [
    {
     "name": "stdout",
     "output_type": "stream",
     "text": [
      "1363 3226\n"
     ]
    }
   ],
   "source": [
    "print(count_amazon_products, count_google_products)"
   ]
  },
  {
   "cell_type": "code",
   "execution_count": 7,
   "metadata": {},
   "outputs": [
    {
     "data": {
      "image/png": "[encoded data removed]",
      "text/plain": [
       "<Figure size 576x432 with 1 Axes>"
      ]
     },
     "metadata": {},
     "output_type": "display_data"
    }
   ],
   "source": [
    "plt.style.use('ggplot')\n",
    "\n",
    "product_count = [count_amazon_products, count_google_products]\n",
    "company = [\"Amazon\", \"Google\"]\n",
    "\n",
    "x_pos = range(len(product_count))\n",
    "\n",
    "plt.figure(figsize=(8,6))\n",
    "plt.bar(x_pos, product_count)\n",
    "plt.xlabel(\"Retail Company\")\n",
    "plt.ylabel(\"Product Count\")\n",
    "plt.title(\"Products listed by retail companies\")\n",
    "\n",
    "plt.xticks(x_pos, company)\n",
    "\n",
    "plt.show()"
   ]
  },
  {
   "cell_type": "code",
   "execution_count": 12,
   "metadata": {},
   "outputs": [
    {
     "data": {
      "text/plain": [
       "id                0\n",
       "title             0\n",
       "description     115\n",
       "manufacturer      0\n",
       "price             0\n",
       "dtype: int64"
      ]
     },
     "execution_count": 12,
     "metadata": {},
     "output_type": "execute_result"
    }
   ],
   "source": [
    "amazon_products.isnull().sum()"
   ]
  },
  {
   "cell_type": "code",
   "execution_count": 18,
   "metadata": {},
   "outputs": [],
   "source": [
    "missing_desc_amazon = amazon_products['description'].isnull().sum()/count_amazon_products*100\n",
    "missing_desc_google = google_products['description'].isnull().sum()/count_google_products*100\n",
    "\n",
    "missing_manu_amazon = amazon_products['manufacturer'].isnull().sum()/count_amazon_products*100\n",
    "missing_manu_google = google_products['manufacturer'].isnull().sum()/count_google_products*100"
   ]
  },
  {
   "cell_type": "code",
   "execution_count": 19,
   "metadata": {},
   "outputs": [
    {
     "data": {
      "image/png": "[encoded data removed]",
      "text/plain": [
       "<Figure size 576x432 with 1 Axes>"
      ]
     },
     "metadata": {},
     "output_type": "display_data"
    }
   ],
   "source": [
    "N = 2\n",
    "missing_amazon = (missing_desc_amazon, missing_manu_amazon)\n",
    "missing_google = (missing_desc_google, missing_manu_google)\n",
    "\n",
    "ind = np.arange(N) \n",
    "width = 0.35      \n",
    "\n",
    "plt.figure(figsize=(8,6))\n",
    "plt.bar(ind, missing_amazon, width, label='Amazon')\n",
    "plt.bar(ind + width, missing_google, width, label='Google')\n",
    "\n",
    "plt.ylabel('Percentage of missing data')\n",
    "plt.title('Missing data for each company')\n",
    "\n",
    "plt.xticks(ind + width / 2, ('Product Description', 'Manufacturer'))\n",
    "plt.legend(loc='best')\n",
    "plt.show()"
   ]
  },
  {
   "cell_type": "code",
   "execution_count": null,
   "metadata": {},
   "outputs": [],
   "source": []
  }
 ],
 "metadata": {
  "kernelspec": {
   "display_name": "Python 3",
   "language": "python",
   "name": "python3"
  },
  "language_info": {
   "codemirror_mode": {
    "name": "ipython",
    "version": 3
   },
   "file_extension": ".py",
   "mimetype": "text/x-python",
   "name": "python",
   "nbconvert_exporter": "python",
   "pygments_lexer": "ipython3",
   "version": "3.7.4"
  }
 },
 "nbformat": 4,
 "nbformat_minor": 2
}
